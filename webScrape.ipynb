{
 "cells": [
  {
   "cell_type": "markdown",
   "metadata": {},
   "source": [
    "# Web Scraping Project, NLP of NY Times Headlines"
   ]
  },
  {
   "cell_type": "code",
   "execution_count": null,
   "metadata": {},
   "outputs": [],
   "source": [
    "import nltk\n",
    "nltk.download('vader_lexicon')\n",
    "import requests\n",
    "import math\n",
    "import re\n",
    "from bs4 import BeautifulSoup\n",
    "from datetime import datetime, timedelta\n",
    "from nltk.corpus import stopwords\n",
    "from nltk.stem import PorterStemmer\n",
    "from IPython import display\n",
    "from pprint import pprint\n",
    "import pandas as pd\n",
    "import numpy as np\n",
    "import matplotlib.pyplot as plt\n",
    "from nltk.corpus import stopwords\n",
    "from nltk.sentiment.vader import SentimentIntensityAnalyzer as SIA\n",
    "import seaborn as sns\n",
    "sns.set(style='darkgrid', context='talk', palette='Dark2')"
   ]
  },
  {
   "cell_type": "markdown",
   "metadata": {},
   "source": [
    "## Data Collection"
   ]
  },
  {
   "cell_type": "code",
   "execution_count": 30,
   "metadata": {},
   "outputs": [],
   "source": [
    "#generate URLs\n",
    "\n",
    "def get_url():\n",
    "    date = datetime(2007,12,1)\n",
    "    while date <= datetime(2009,6,30):\n",
    "        yield 'https://archive.nytimes.com/www.nytimes.com/indexes/' + date.strftime('%Y/%m/%d') + '/todayspaper/index.html'\n",
    "        date += timedelta(days = 1) #577 days\n",
    "\n",
    "urls = []\n",
    "for url in get_url():\n",
    "    urls.append(url)"
   ]
  },
  {
   "cell_type": "code",
   "execution_count": 31,
   "metadata": {},
   "outputs": [],
   "source": [
    "#scrape\n",
    "\n",
    "headLines = []\n",
    "\n",
    "for url in urls:\n",
    "    response = requests.get(url)\n",
    "    page_content = BeautifulSoup(response.text, 'html.parser')\n",
    "    hl = page_content.select('h5')\n",
    "    headLines.append(hl)"
   ]
  },
  {
   "cell_type": "code",
   "execution_count": null,
   "metadata": {},
   "outputs": [],
   "source": [
    "#cleaning\n",
    "\n",
    "i = 0\n",
    "cleanLines = []\n",
    "\n",
    "for cl in headLines:\n",
    "    for h in cl:\n",
    "        h = h.text\n",
    "        if h not in cleanLines:\n",
    "            cleanLines.append(h)\n",
    "cleanLines_ex = [cl.strip('\\n') for cl in cleanLines]\n",
    "i += 1\n",
    "print(cleanLines_ex)"
   ]
  },
  {
   "cell_type": "code",
   "execution_count": null,
   "metadata": {},
   "outputs": [],
   "source": [
    "#save data locally\n",
    "\n",
    "with open('cleanLines_ex.txt', 'w') as output:\n",
    "    output.write(str(cleanLines_ex))"
   ]
  },
  {
   "cell_type": "markdown",
   "metadata": {},
   "source": [
    "## Preprocessing "
   ]
  },
  {
   "cell_type": "code",
   "execution_count": 136,
   "metadata": {},
   "outputs": [],
   "source": [
    "# reading the data\n",
    "\n",
    "fhandle = open(\"cleanLines_ex.txt\")\n",
    "text = ''\n",
    "for line in fhandle:\n",
    "    text += line.strip()+\" \"\n",
    "fhandle.close()"
   ]
  },
  {
   "cell_type": "code",
   "execution_count": 137,
   "metadata": {},
   "outputs": [],
   "source": [
    "#remove stopwords/punctuation\n",
    "\n",
    "stoplist = stopwords.words('english')\n",
    "unwanted_char = ['\\b', '\\t', '!', '(', ')','-', ';', ':', '\"', '?', '#', '$', '%', '&', ',', \"'\"]   # you can extend or modify this list as you want\n",
    "\n",
    "text = re.sub(r\"([a-z])\\-([a-z])\", r\"\\1 \\2\", text , 0, re.IGNORECASE) #replace hyphens with spaces\n",
    "text = re.sub(\"(?<=[a-z])’(?=[a-z])\", \"\", text) #remove apostrophes\n",
    "def delWhitespaces(rawText):\n",
    "    cleanwordlist = \"\"\n",
    "    for n in rawText.lower():\n",
    "        if n not in unwanted_char:\n",
    "            cleanwordlist = cleanwordlist + n\n",
    "    cleanwordlist2 = [word for word in cleanwordlist.split() if word not in stoplist] # remove stopwords & tokenize data\n",
    "    return cleanwordlist2  \n",
    "\n",
    "text2 = delWhitespaces(text)"
   ]
  },
  {
   "cell_type": "markdown",
   "metadata": {},
   "source": [
    "## Lexical Analysis"
   ]
  },
  {
   "cell_type": "code",
   "execution_count": 138,
   "metadata": {},
   "outputs": [
    {
     "name": "stdout",
     "output_type": "stream",
     "text": [
      "Total word count is 27276.\n",
      "Total number of headlines is 3480.\n"
     ]
    }
   ],
   "source": [
    "#total word count\n",
    "\n",
    "total_count = len(text.split())\n",
    "\n",
    "print('Total word count is ' + str(total_count) + '.')\n",
    "print('Total number of headlines is ' + str(len(text.split(\"', '\"))) + '.')"
   ]
  },
  {
   "cell_type": "code",
   "execution_count": 139,
   "metadata": {},
   "outputs": [],
   "source": [
    "# create dictionary that counts each word\n",
    "setp = set(text2)\n",
    "freq = dict().fromkeys(setp, 0)\n",
    "\n",
    "for p in text2:\n",
    "    freq[p] += 1"
   ]
  },
  {
   "cell_type": "code",
   "execution_count": 140,
   "metadata": {},
   "outputs": [],
   "source": [
    "def maxCalc(text):\n",
    "    maxKey, maxValue = 0, 0\n",
    "    setp = set(text)\n",
    "    freq = dict().fromkeys(setp, 0)\n",
    "    freqlen = len(freq)\n",
    "    for p in text:\n",
    "        freq[p] += 1\n",
    "    for k in freq:\n",
    "        if freq[k] > maxValue:\n",
    "            maxKey = k\n",
    "            maxValue = freq[k]\n",
    "    print(\"There are \" + str(freqlen) + \" unique words in the dataset. The most used word is {0}, which appears {1} times in the text.\".format(maxKey, maxValue))"
   ]
  },
  {
   "cell_type": "code",
   "execution_count": 141,
   "metadata": {},
   "outputs": [
    {
     "name": "stdout",
     "output_type": "stream",
     "text": [
      "There are 6227 unique words in the dataset. The most used word is u.s., which appears 268 times in the text.\n"
     ]
    }
   ],
   "source": [
    "maxCalc(text2)"
   ]
  },
  {
   "cell_type": "code",
   "execution_count": 142,
   "metadata": {},
   "outputs": [],
   "source": [
    "#stemming\n",
    "\n",
    "ps = PorterStemmer()\n",
    "\n",
    "stemmed_output = [ps.stem(w) for w in text2]"
   ]
  },
  {
   "cell_type": "code",
   "execution_count": 143,
   "metadata": {},
   "outputs": [],
   "source": [
    "# create dictionary that counts each word\n",
    "setp = set(stemmed_output)\n",
    "freq = dict().fromkeys(setp, 0)\n",
    "\n",
    "for p in stemmed_output:\n",
    "    freq[p] += 1"
   ]
  },
  {
   "cell_type": "code",
   "execution_count": 144,
   "metadata": {},
   "outputs": [
    {
     "name": "stdout",
     "output_type": "stream",
     "text": [
      "There are 4549 unique words in the dataset. The most used word is obama, which appears 283 times in the text.\n"
     ]
    }
   ],
   "source": [
    "maxCalc(stemmed_output)"
   ]
  },
  {
   "cell_type": "markdown",
   "metadata": {},
   "source": [
    "## Sentiment Analysis Using Vader Sentiment Analyzer"
   ]
  },
  {
   "cell_type": "code",
   "execution_count": 162,
   "metadata": {},
   "outputs": [],
   "source": [
    "fhandle = open(\"cleanLines_ex.txt\")\n",
    "text = \"\"\n",
    "for line in fhandle:\n",
    "    text += line.strip()+' '    \n",
    "fhandle.close()"
   ]
  },
  {
   "cell_type": "code",
   "execution_count": 163,
   "metadata": {},
   "outputs": [],
   "source": [
    "#remove punctuation\n",
    "\n",
    "unwanted_char = ['\\b', '\\t', '!', '(', ')','-', '[', ']', '{', '}', ';', ':', '\"', '\\'', '<', '>', '/', '?', '@', '#', '$', '%', '^', '&', '*', '_', '~', ',']   # you can extend or modify this list as you want\n",
    "\n",
    "text = re.sub(r\"([a-z])\\-([a-z])\", r\"\\1 \\2\", text , 0, re.IGNORECASE) #replace hyphens with spaces\n",
    "text = re.sub(\"(?<=[a-z])’(?=[a-z])\", \" \", text) #remove apostrophes\n",
    "def delWhitespaces2(rawText):\n",
    "    cleanwordlist = \"\"\n",
    "    for n in rawText.lower().split(\",\"):\n",
    "        if n not in unwanted_char:\n",
    "            cleanwordlist = cleanwordlist + n\n",
    "    return cleanwordlist \n",
    "\n",
    "text3 = delWhitespaces2(text)"
   ]
  },
  {
   "cell_type": "code",
   "execution_count": 164,
   "metadata": {},
   "outputs": [
    {
     "name": "stdout",
     "output_type": "stream",
     "text": [
      "Total number of headlines mentioning Obama is 282.\n"
     ]
    }
   ],
   "source": [
    "#extract headlines containing 'obama'\n",
    "\n",
    "obamaHeadlines = []\n",
    "\n",
    "for word in text3.split(\"'\"):\n",
    "    if 'obama' in word:\n",
    "        obamaHeadlines.append(word)\n",
    "print('Total number of headlines mentioning Obama is ' + str(len(obamaHeadlines)) + '.')"
   ]
  },
  {
   "cell_type": "code",
   "execution_count": 165,
   "metadata": {},
   "outputs": [
    {
     "name": "stdout",
     "output_type": "stream",
     "text": [
      "[{'compound': 0.0,\n",
      "  'headline': 'feminist pitch by a democrat named obama',\n",
      "  'neg': 0.0,\n",
      "  'neu': 1.0,\n",
      "  'pos': 0.0},\n",
      " {'compound': 0.5106,\n",
      "  'headline': 'obama showing new confidence with iowa sprint',\n",
      "  'neg': 0.0,\n",
      "  'neu': 0.645,\n",
      "  'pos': 0.355},\n",
      " {'compound': 0.0,\n",
      "  'headline': 'obama s vote in illinois was often just ‘present’',\n",
      "  'neg': 0.0,\n",
      "  'neu': 1.0,\n",
      "  'pos': 0.0},\n",
      " {'compound': 0.0,\n",
      "  'headline': 'obama takes iowa in a big turnout as clinton falters; huckabee victor',\n",
      "  'neg': 0.0,\n",
      "  'neu': 1.0,\n",
      "  'pos': 0.0},\n",
      " {'compound': 0.3612,\n",
      "  'headline': 'daring to believe blacks savor obama victory',\n",
      "  'neg': 0.0,\n",
      "  'neu': 0.706,\n",
      "  'pos': 0.294},\n",
      " {'compound': 0.4588,\n",
      "  'headline': 'clinton is victor turning back obama; mccain also triumphs',\n",
      "  'neg': 0.0,\n",
      "  'neu': 0.727,\n",
      "  'pos': 0.273},\n",
      " {'compound': 0.34,\n",
      "  'headline': 'obama giving clinton a race in her backyard',\n",
      "  'neg': 0.0,\n",
      "  'neu': 0.714,\n",
      "  'pos': 0.286},\n",
      " {'compound': 0.25,\n",
      "  'headline': 'in obama s pursuit of latinos race plays role',\n",
      "  'neg': 0.0,\n",
      "  'neu': 0.778,\n",
      "  'pos': 0.222},\n",
      " {'compound': 0.0,\n",
      "  'headline': 'southern blacks are split on clinton vs. obama',\n",
      "  'neg': 0.0,\n",
      "  'neu': 1.0,\n",
      "  'pos': 0.0},\n",
      " {'compound': 0.0,\n",
      "  'headline': 'obama and clinton tangle at debate',\n",
      "  'neg': 0.0,\n",
      "  'neu': 1.0,\n",
      "  'pos': 0.0},\n",
      " {'compound': 0.5719,\n",
      "  'headline': 'obama wins south carolina primary',\n",
      "  'neg': 0.0,\n",
      "  'neu': 0.519,\n",
      "  'pos': 0.481},\n",
      " {'compound': 0.0,\n",
      "  'headline': 'obama weathers a test of mettle',\n",
      "  'neg': 0.0,\n",
      "  'neu': 1.0,\n",
      "  'pos': 0.0},\n",
      " {'compound': 0.0,\n",
      "  'headline': 'kennedy chooses obama spurning plea by clintons',\n",
      "  'neg': 0.0,\n",
      "  'neu': 1.0,\n",
      "  'pos': 0.0},\n",
      " {'compound': -0.2732,\n",
      "  'headline': 'outside groups aid obama critic of their influence',\n",
      "  'neg': 0.231,\n",
      "  'neu': 0.769,\n",
      "  'pos': 0.0},\n",
      " {'compound': 0.0,\n",
      "  'headline': 'enlisting new donors obama reaped $32 million in january',\n",
      "  'neg': 0.0,\n",
      "  'neu': 1.0,\n",
      "  'pos': 0.0},\n",
      " {'compound': 0.0,\n",
      "  'headline': 'kennedy revels in limelight as he stumps for obama',\n",
      "  'neg': 0.0,\n",
      "  'neu': 1.0,\n",
      "  'pos': 0.0},\n",
      " {'compound': 0.0,\n",
      "  'headline': 'nuclear leaks and response tested obama in senate',\n",
      "  'neg': 0.0,\n",
      "  'neu': 1.0,\n",
      "  'pos': 0.0},\n",
      " {'compound': 0.0,\n",
      "  'headline': 'obama and clinton brace for drawn out  campaign',\n",
      "  'neg': 0.0,\n",
      "  'neu': 1.0,\n",
      "  'pos': 0.0},\n",
      " {'compound': 0.0,\n",
      "  'headline': 'obama is making inroads but fervor fell short at end',\n",
      "  'neg': 0.0,\n",
      "  'neu': 1.0,\n",
      "  'pos': 0.0},\n",
      " {'compound': 0.6705,\n",
      "  'headline': 'old friends say drugs played only bit part in obama s young life',\n",
      "  'neg': 0.0,\n",
      "  'neu': 0.645,\n",
      "  'pos': 0.355},\n",
      " {'compound': 0.7506,\n",
      "  'headline': 'obama gets convincing wins in 3 states',\n",
      "  'neg': 0.0,\n",
      "  'neu': 0.385,\n",
      "  'pos': 0.615},\n",
      " {'compound': 0.0,\n",
      "  'headline': 'maine to obama; clinton replaces campaign leader',\n",
      "  'neg': 0.0,\n",
      "  'neu': 1.0,\n",
      "  'pos': 0.0},\n",
      " {'compound': 0.0,\n",
      "  'headline': 'seeking unity obama feels pull of racial divide',\n",
      "  'neg': 0.0,\n",
      "  'neu': 1.0,\n",
      "  'pos': 0.0},\n",
      " {'compound': 0.0,\n",
      "  'headline': 'obama and mccain sweep 3 primaries',\n",
      "  'neg': 0.0,\n",
      "  'neu': 1.0,\n",
      "  'pos': 0.0},\n",
      " {'compound': 0.0,\n",
      "  'headline': 'obama s lead in delegates shifts focus of campaign',\n",
      "  'neg': 0.0,\n",
      "  'neu': 1.0,\n",
      "  'pos': 0.0},\n",
      " {'compound': 0.0,\n",
      "  'headline': 'michelle obama takes to the trail',\n",
      "  'neg': 0.0,\n",
      "  'neu': 1.0,\n",
      "  'pos': 0.0},\n",
      " {'compound': 0.0,\n",
      "  'headline': 'black leader a clinton ally tilts to obama',\n",
      "  'neg': 0.0,\n",
      "  'neu': 1.0,\n",
      "  'pos': 0.0},\n",
      " {'compound': 0.0,\n",
      "  'headline': 'wisconsin and hawaii add to obama s string of victories',\n",
      "  'neg': 0.0,\n",
      "  'neu': 1.0,\n",
      "  'pos': 0.0},\n",
      " {'compound': 0.0,\n",
      "  'headline': 'clinton aides split on how to take on obama',\n",
      "  'neg': 0.0,\n",
      "  'neu': 1.0,\n",
      "  'pos': 0.0},\n",
      " {'compound': -0.7003,\n",
      "  'headline': 'in memories of a painful past hushed worry about obama',\n",
      "  'neg': 0.453,\n",
      "  'neu': 0.547,\n",
      "  'pos': 0.0}]\n"
     ]
    }
   ],
   "source": [
    "#sentiment analysis\n",
    "\n",
    "sia = SIA()\n",
    "results = []\n",
    "\n",
    "for line in obamaHeadlines:\n",
    "    pol_score = sia.polarity_scores(line)\n",
    "    pol_score['headline'] = line\n",
    "    results.append(pol_score)\n",
    "\n",
    "pprint(results[:30], width=100)"
   ]
  },
  {
   "cell_type": "code",
   "execution_count": 166,
   "metadata": {},
   "outputs": [
    {
     "data": {
      "text/html": [
       "<div>\n",
       "<style scoped>\n",
       "    .dataframe tbody tr th:only-of-type {\n",
       "        vertical-align: middle;\n",
       "    }\n",
       "\n",
       "    .dataframe tbody tr th {\n",
       "        vertical-align: top;\n",
       "    }\n",
       "\n",
       "    .dataframe thead th {\n",
       "        text-align: right;\n",
       "    }\n",
       "</style>\n",
       "<table border=\"1\" class=\"dataframe\">\n",
       "  <thead>\n",
       "    <tr style=\"text-align: right;\">\n",
       "      <th></th>\n",
       "      <th>neg</th>\n",
       "      <th>neu</th>\n",
       "      <th>pos</th>\n",
       "      <th>compound</th>\n",
       "      <th>headline</th>\n",
       "    </tr>\n",
       "  </thead>\n",
       "  <tbody>\n",
       "    <tr>\n",
       "      <th>0</th>\n",
       "      <td>0.0</td>\n",
       "      <td>1.000</td>\n",
       "      <td>0.000</td>\n",
       "      <td>0.0000</td>\n",
       "      <td>feminist pitch by a democrat named obama</td>\n",
       "    </tr>\n",
       "    <tr>\n",
       "      <th>1</th>\n",
       "      <td>0.0</td>\n",
       "      <td>0.645</td>\n",
       "      <td>0.355</td>\n",
       "      <td>0.5106</td>\n",
       "      <td>obama showing new confidence with iowa sprint</td>\n",
       "    </tr>\n",
       "    <tr>\n",
       "      <th>2</th>\n",
       "      <td>0.0</td>\n",
       "      <td>1.000</td>\n",
       "      <td>0.000</td>\n",
       "      <td>0.0000</td>\n",
       "      <td>obama s vote in illinois was often just ‘present’</td>\n",
       "    </tr>\n",
       "    <tr>\n",
       "      <th>3</th>\n",
       "      <td>0.0</td>\n",
       "      <td>1.000</td>\n",
       "      <td>0.000</td>\n",
       "      <td>0.0000</td>\n",
       "      <td>obama takes iowa in a big turnout as clinton f...</td>\n",
       "    </tr>\n",
       "    <tr>\n",
       "      <th>4</th>\n",
       "      <td>0.0</td>\n",
       "      <td>0.706</td>\n",
       "      <td>0.294</td>\n",
       "      <td>0.3612</td>\n",
       "      <td>daring to believe blacks savor obama victory</td>\n",
       "    </tr>\n",
       "  </tbody>\n",
       "</table>\n",
       "</div>"
      ],
      "text/plain": [
       "   neg    neu    pos  compound  \\\n",
       "0  0.0  1.000  0.000    0.0000   \n",
       "1  0.0  0.645  0.355    0.5106   \n",
       "2  0.0  1.000  0.000    0.0000   \n",
       "3  0.0  1.000  0.000    0.0000   \n",
       "4  0.0  0.706  0.294    0.3612   \n",
       "\n",
       "                                            headline  \n",
       "0           feminist pitch by a democrat named obama  \n",
       "1      obama showing new confidence with iowa sprint  \n",
       "2  obama s vote in illinois was often just ‘present’  \n",
       "3  obama takes iowa in a big turnout as clinton f...  \n",
       "4       daring to believe blacks savor obama victory  "
      ]
     },
     "execution_count": 166,
     "metadata": {},
     "output_type": "execute_result"
    }
   ],
   "source": [
    "#move results into a dataframe\n",
    "\n",
    "df = pd.DataFrame.from_records(results)\n",
    "df.head()"
   ]
  },
  {
   "cell_type": "code",
   "execution_count": 167,
   "metadata": {},
   "outputs": [
    {
     "data": {
      "text/html": [
       "<div>\n",
       "<style scoped>\n",
       "    .dataframe tbody tr th:only-of-type {\n",
       "        vertical-align: middle;\n",
       "    }\n",
       "\n",
       "    .dataframe tbody tr th {\n",
       "        vertical-align: top;\n",
       "    }\n",
       "\n",
       "    .dataframe thead th {\n",
       "        text-align: right;\n",
       "    }\n",
       "</style>\n",
       "<table border=\"1\" class=\"dataframe\">\n",
       "  <thead>\n",
       "    <tr style=\"text-align: right;\">\n",
       "      <th></th>\n",
       "      <th>neg</th>\n",
       "      <th>neu</th>\n",
       "      <th>pos</th>\n",
       "      <th>compound</th>\n",
       "      <th>headline</th>\n",
       "      <th>label</th>\n",
       "    </tr>\n",
       "  </thead>\n",
       "  <tbody>\n",
       "    <tr>\n",
       "      <th>0</th>\n",
       "      <td>0.0</td>\n",
       "      <td>1.000</td>\n",
       "      <td>0.000</td>\n",
       "      <td>0.0000</td>\n",
       "      <td>feminist pitch by a democrat named obama</td>\n",
       "      <td>0</td>\n",
       "    </tr>\n",
       "    <tr>\n",
       "      <th>1</th>\n",
       "      <td>0.0</td>\n",
       "      <td>0.645</td>\n",
       "      <td>0.355</td>\n",
       "      <td>0.5106</td>\n",
       "      <td>obama showing new confidence with iowa sprint</td>\n",
       "      <td>1</td>\n",
       "    </tr>\n",
       "    <tr>\n",
       "      <th>2</th>\n",
       "      <td>0.0</td>\n",
       "      <td>1.000</td>\n",
       "      <td>0.000</td>\n",
       "      <td>0.0000</td>\n",
       "      <td>obama s vote in illinois was often just ‘present’</td>\n",
       "      <td>0</td>\n",
       "    </tr>\n",
       "    <tr>\n",
       "      <th>3</th>\n",
       "      <td>0.0</td>\n",
       "      <td>1.000</td>\n",
       "      <td>0.000</td>\n",
       "      <td>0.0000</td>\n",
       "      <td>obama takes iowa in a big turnout as clinton f...</td>\n",
       "      <td>0</td>\n",
       "    </tr>\n",
       "    <tr>\n",
       "      <th>4</th>\n",
       "      <td>0.0</td>\n",
       "      <td>0.706</td>\n",
       "      <td>0.294</td>\n",
       "      <td>0.3612</td>\n",
       "      <td>daring to believe blacks savor obama victory</td>\n",
       "      <td>1</td>\n",
       "    </tr>\n",
       "  </tbody>\n",
       "</table>\n",
       "</div>"
      ],
      "text/plain": [
       "   neg    neu    pos  compound  \\\n",
       "0  0.0  1.000  0.000    0.0000   \n",
       "1  0.0  0.645  0.355    0.5106   \n",
       "2  0.0  1.000  0.000    0.0000   \n",
       "3  0.0  1.000  0.000    0.0000   \n",
       "4  0.0  0.706  0.294    0.3612   \n",
       "\n",
       "                                            headline  label  \n",
       "0           feminist pitch by a democrat named obama      0  \n",
       "1      obama showing new confidence with iowa sprint      1  \n",
       "2  obama s vote in illinois was often just ‘present’      0  \n",
       "3  obama takes iowa in a big turnout as clinton f...      0  \n",
       "4       daring to believe blacks savor obama victory      1  "
      ]
     },
     "execution_count": 167,
     "metadata": {},
     "output_type": "execute_result"
    }
   ],
   "source": [
    "#add another column to easily identify sentiment\n",
    "\n",
    "df['label'] = 0\n",
    "df.loc[df['compound'] > 0.2, 'label'] = 1\n",
    "df.loc[df['compound'] < -0.2, 'label'] = -1\n",
    "df.head()"
   ]
  },
  {
   "cell_type": "code",
   "execution_count": 155,
   "metadata": {},
   "outputs": [],
   "source": [
    "#save dataframe locally for future analysis\n",
    "\n",
    "df2 = df[['headline', 'label']]\n",
    "df2.to_csv('obama_headline_labels.csv', mode='a', encoding='utf-8', index=False)"
   ]
  },
  {
   "cell_type": "code",
   "execution_count": 168,
   "metadata": {},
   "outputs": [
    {
     "name": "stdout",
     "output_type": "stream",
     "text": [
      "Positive headlines:\n",
      "\n",
      "['obama showing new confidence with iowa sprint',\n",
      " 'daring to believe blacks savor obama victory',\n",
      " 'clinton is victor turning back obama; mccain also triumphs',\n",
      " 'obama giving clinton a race in her backyard',\n",
      " 'in obama s pursuit of latinos race plays role']\n",
      "\n",
      "Negative headlines:\n",
      "\n",
      "['first a tense talk with clinton then richardson backs obama',\n",
      " 'obama now on the defensive calls ‘bitter’ words ill chosen',\n",
      " 'as clinton seeks gas tax break for summer obama says no',\n",
      " 'a strained wright obama bond finally snaps',\n",
      " 'many florida jews express doubts on obama']\n"
     ]
    }
   ],
   "source": [
    "#look at positive and negative headlines\n",
    "\n",
    "print(\"Positive headlines:\\n\")\n",
    "pprint(list(df[df['label'] == 1].headline)[:5], width=200)\n",
    "\n",
    "print(\"\\nNegative headlines:\\n\")\n",
    "pprint(list(df[df['label'] == -1].headline)[5:10], width=200)"
   ]
  },
  {
   "cell_type": "code",
   "execution_count": 169,
   "metadata": {},
   "outputs": [
    {
     "data": {
      "image/png": "[encoded data removed]",
      "text/plain": [
       "<Figure size 576x576 with 1 Axes>"
      ]
     },
     "metadata": {},
     "output_type": "display_data"
    },
    {
     "name": "stdout",
     "output_type": "stream",
     "text": [
      " 0    164\n",
      " 1     63\n",
      "-1     55\n",
      "Name: label, dtype: int64\n",
      " 0    58.156028\n",
      " 1    22.340426\n",
      "-1    19.503546\n",
      "Name: label, dtype: float64\n"
     ]
    }
   ],
   "source": [
    "#summary statistics and barchart graphing results\n",
    "\n",
    "fig, ax = plt.subplots(figsize=(8, 8))\n",
    "\n",
    "counts = df.label.value_counts(normalize=True) * 100\n",
    "\n",
    "sns.barplot(x=counts.index, y=counts, ax=ax)\n",
    "\n",
    "ax.set_xticklabels(['Negative', 'Neutral', 'Positive'])\n",
    "ax.set_ylabel(\"Percentage\")\n",
    "\n",
    "plt.show()\n",
    "\n",
    "print(df.label.value_counts())\n",
    "\n",
    "print(df.label.value_counts(normalize=True) * 100)"
   ]
  },
  {
   "cell_type": "code",
   "execution_count": null,
   "metadata": {},
   "outputs": [],
   "source": []
  }
 ],
 "metadata": {
  "kernelspec": {
   "display_name": "Python 3",
   "language": "python",
   "name": "python3"
  },
  "language_info": {
   "codemirror_mode": {
    "name": "ipython",
    "version": 3
   },
   "file_extension": ".py",
   "mimetype": "text/x-python",
   "name": "python",
   "nbconvert_exporter": "python",
   "pygments_lexer": "ipython3",
   "version": "3.8.5"
  }
 },
 "nbformat": 4,
 "nbformat_minor": 4
}
